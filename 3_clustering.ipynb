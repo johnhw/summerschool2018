{
 "cells": [
  {
   "cell_type": "markdown",
   "metadata": {},
   "source": [
    "# Manifold Learning: Part I"
   ]
  },
  {
   "cell_type": "code",
   "execution_count": null,
   "metadata": {},
   "outputs": [],
   "source": [
    "# standard imports\n",
    "import numpy as np\n",
    "import matplotlib.pyplot as plt\n",
    "import mpl_toolkits.mplot3d.axes3d as axes3d\n",
    "import sklearn.preprocessing, sklearn.cluster,  sklearn.neighbors\n",
    "import sklearn.metrics, sklearn.datasets, sklearn.decomposition, sklearn.manifold\n",
    "import pandas as pd\n",
    "\n",
    "# force plots to appear inline on this page\n",
    "%matplotlib notebook\n",
    "plt.rc('figure', figsize=(8.0, 4.0), dpi=140)\n",
    "import scipy.stats\n",
    "import cv2"
   ]
  },
  {
   "cell_type": "markdown",
   "metadata": {},
   "source": [
    "## Topic Purpose\n",
    "In this part, we will explore how **unsupervised learning** can pull out structure from **sensors**. We can use this \"natural\", latent structure to build interfaces without having to predefine our controls.\n",
    "\n",
    "## Outline\n",
    "\n",
    "* <a href=\"#motivation\"> Think about objective methods for designing UI controls </a>\n",
    "* <a href=\"#unsupervised\"> Discuss unsupervised learning </a>\n",
    "* <a href=\"#clustering\"> Explore clustering algorithms </a>\n",
    "\n",
    "\n",
    "\n",
    "### Motivation\n",
    "<a id=\"motivation\"></a>\n",
    "<img src=\"imgs/mainfold_labeled.png\">\n",
    "\n",
    "For many conventional UI sensors, we already have good mappings from **sensor measurements** to **interface actions**. This is largely because the sensors were designed specifically to have electrical outputs which are very close to the intended actions; a traditional mechanical mouse literally emits electrical pulses at a rate proportional to translation.\n",
    "\n",
    "But with optical sensors like a Kinect, or with a high-degree of freedom flexible sensor, or tricky sensors like electromyography (which measures the electrical signals present as muscles contract), these mappings become tricky. Supervised learning lets train a system to recognise patterns in these signals (e.g. to classify poses or gestures). \n",
    "**But what if you don't know what's even feasible or would make a good interface?**\n",
    "\n",
    "### Inherent structures\n",
    "\n",
    "If we take sensor measurements of a person doing \"random stuff\" (see [Rewarding the Original](http://www.dcs.gla.ac.uk/~jhw/motionexplorerdata/) CHI 2012 for ideas on how to make \"random stuff\" a formal process!), we will will end up with a set of feature vectors that were both **performable** and **measurable** (because we know someone did them and a sensor measured them). *You will get a chance to apply the ‘Rewarding the Original’ approach tomorrow in the practicals associated with Rod’s lecture, so if you have time this evening, feel free to have a read of the paper, or watch the video in advance*\n",
    "\n",
    "One way to look at this data is to recover **inherent structure** in these measurements -- are there **regularities** or **stable points** which represent things which might be good controls?\n",
    "\n",
    "\n",
    "<img src=\"imgs/motion_video_frame.png\">\n",
    "\n",
    "-------------------------"
   ]
  },
  {
   "cell_type": "markdown",
   "metadata": {},
   "source": [
    "--------------\n",
    "### Unsupervised learning\n",
    "<a id=\"unsupervised\"></a>\n",
    "Unsupervised learning learns \"interesting things\" about the structure of data without any explicit labeling of points. The key idea is that datasets may have a simple underlying or *latent* representation which can be determined simply by looking at the data itself.\n",
    "\n",
    "Two common unsupervised learning tasks are *clustering* and *dimensional reduction*. Clustering can be thought of as the unsupervised analogue of classification -- finding discrete classes in data. Dimensional reduction can be thought of as the analogue of regression -- finding a small set of continuous variables which \"explain\" a higher dimensional set. "
   ]
  },
  {
   "cell_type": "markdown",
   "metadata": {},
   "source": [
    "### Clustering\n",
    "\n",
    "Clustering tries to find well-seperated (in some sense) **partitions** of a data set. It is essentially a search for natural boundaries in the data. \n",
    "\n",
    "\n",
    "<img src=\"imgs/cluster_img.png\">\n",
    "\n",
    "There are many, *many* clustering approaches. A simple one is *k-means*, which finds clusters via an iterative algortihm. The number of clusters must be chosen in advance. In general, it is hard to estimate the number of clusters, although there are algorithms for estimating this. k-means proceeds by choosing a set of $k$ random points as initial cluster seed points; classifiying each data point according to its nearest seed point; then moving the cluster point towards the mean position of all the data points that belong to it. \n",
    "\n",
    "The k-means algorithm does not guarantee to find the best possible clustering -- it falls into *local minima*. But it often works very well.\n",
    "\n",
    "<img src=\"imgs/cluster_boundary.png\">"
   ]
  },
  {
   "cell_type": "code",
   "execution_count": null,
   "metadata": {},
   "outputs": [],
   "source": [
    "digits = sklearn.datasets.load_digits()\n",
    "digit_data = digits.data\n",
    "\n",
    "\n",
    "selection = np.random.randint(0,200,(10,))\n",
    "\n",
    "digit_seq = [digit_data[s].reshape(8,8) for s in selection]\n",
    "plt.imshow(np.hstack(digit_seq), cmap=\"gray\", interpolation=\"nearest\")\n",
    "for i, d in enumerate(selection):    \n",
    "    plt.text(4+8*i,10,\"%s\"%digits.target[d])\n",
    "plt.axis(\"off\")\n",
    "plt.title(\"Some random digits from the downscaled MNIST set\")\n",
    "plt.figure()"
   ]
  },
  {
   "cell_type": "code",
   "execution_count": null,
   "metadata": {},
   "outputs": [],
   "source": [
    "# apply principal component analysis\n",
    "pca = sklearn.decomposition.PCA(n_components=2).fit(digit_data)\n",
    "digits_2d = pca.transform(digit_data)\n",
    "\n",
    "# plot each digit with a different color (these are the true labels)\n",
    "plt.scatter(digits_2d[:,0], digits_2d[:,1], c=digits.target, cmap='jet', s=60)\n",
    "plt.title(\"A 2D plot of the digits, colored by true label\")\n",
    "# show a few random draws from the examples, and their labels\n",
    "plt.figure()"
   ]
  },
  {
   "cell_type": "code",
   "execution_count": null,
   "metadata": {},
   "outputs": [],
   "source": [
    "## now cluster the data\n",
    "kmeans = sklearn.cluster.KMeans(n_clusters=10)\n",
    "kmeans_target = kmeans.fit_predict(digits.data)\n",
    "plt.scatter(digits_2d[:,0], digits_2d[:,1], c=kmeans_target, cmap='jet', s=60)\n",
    "plt.title(\"Points colored by cluster inferred\")\n",
    "\n",
    "# plot some items in the same cluster\n",
    "# (which should be the same digit or similar!)\n",
    "def plot_same_target(target):\n",
    "    plt.figure()\n",
    "    selection = np.where(kmeans_target==target)[0][0:20]\n",
    "    digit_seq = [digit_data[s].reshape(8,8) for s in selection]\n",
    "    plt.imshow(np.hstack(digit_seq), cmap=\"gray\", interpolation=\"nearest\")\n",
    "    for i, d in enumerate(selection):    \n",
    "        plt.text(4+8*i,10,\"%s\"%digits.target[d])\n",
    "    plt.axis(\"off\")\n",
    "    plt.title(\"Images from cluster %d\" % target)\n",
    "    \n",
    "for i in range(10):    \n",
    "    plot_same_target(i)    \n"
   ]
  },
  {
   "cell_type": "code",
   "execution_count": null,
   "metadata": {},
   "outputs": [],
   "source": [
    "## now cluster the data, but do it with too few and too many clusters\n",
    "\n",
    "for clusters in [3,20]:\n",
    "    plt.figure()\n",
    "    kmeans = sklearn.cluster.KMeans(n_clusters=clusters)\n",
    "    kmeans_target = kmeans.fit_predict(digits.data)\n",
    "    plt.scatter(digits_2d[:,0], digits_2d[:,1], c=kmeans_target, cmap='jet')\n",
    "    plt.title(\"%d clusters is not good\" % clusters)\n",
    "    # plot some items in the same cluster\n",
    "    # (which should be the same digit or similar!)\n",
    "    def plot_same_target(target):\n",
    "        plt.figure()\n",
    "        selection = np.random.permutation(np.where(kmeans_target==target))[0][0:20]\n",
    "        digit_seq = [digit_data[s].reshape(8,8) for s in selection]\n",
    "        plt.imshow(np.hstack(digit_seq), cmap=\"gray\", interpolation=\"nearest\")\n",
    "        for i, d in enumerate(selection):    \n",
    "            plt.text(4+8*i,10,\"%s\"%digits.target[d])\n",
    "        plt.axis(\"off\")\n",
    "\n",
    "    for i in range(clusters):\n",
    "        plot_same_target(i)    \n",
    "\n"
   ]
  },
  {
   "cell_type": "markdown",
   "metadata": {},
   "source": [
    "# Practical: Day and night\n",
    "<a id=\"practical\"></a>"
   ]
  },
  {
   "cell_type": "markdown",
   "metadata": {},
   "source": [
    "Use a clustering algorithm (choose one from [sklearn](http://scikit-learn.org/stable/modules/clustering.html#clustering)) to cluster a set of images of street footage, some filmed at night, some during the day.\n",
    "\n",
    "The images are available by loading `data/daynight.npz` using `np.load()`. This is a has 512 images of size 160x65, RGB color, 8-bit unsigned integer. You can access these as:\n",
    "\n",
    "    images = np.load(\"data/daynight.npz\")['data']\n",
    "\n",
    "There is also the **true labels** for each image in ['target']. **Obviously, don't use these in the clustering process!**.\n",
    "\n",
    "\n",
    "You should be able to cluster the images according to the time of day without using any labels. The raw pixel values can be used as features for clustering, but a more sensible approach is to summarise the image as a **color histogram**. \n",
    "\n",
    "This essentially splits the color space into coarse bins, and counts the occurence of each color type. You need to choose a value for $n$ (number of bins per channel) for the histogram; smaller numbers (like 3 or 4) are usually good.\n",
    "\n",
    "Make a function that can show the images and the corresponding cluster labels, to test how well clustering has worked; you might also see if there are additional meaningful clusters in the imagery.\n",
    "\n",
    "### Steps\n",
    "1. Load the imagery\n",
    "1. Check you can plot it (use `plt.imshow`)\n",
    "1. Create a set of features using `color_histogram()`\n",
    "1. Try clustering it and plotting the result\n",
    "1. Experiment with clustering algorithms and `color_histogram()` settings and see how this affects clustering performance.\n"
   ]
  },
  {
   "cell_type": "code",
   "execution_count": null,
   "metadata": {},
   "outputs": [],
   "source": [
    "def color_histogram(img, n):\n",
    "    \"\"\"Return the color histogram of the 2D color image img, which should have dtype np.uint8\n",
    "    n specfies the number of bins **per channel**. The histogram is computed in YUV space. \"\"\"\n",
    "    # compute 3 channel colour histogram using openCV\n",
    "    # we convert to YCC space to make the histogram better spaced\n",
    "    chroma_img = cv2.cvtColor(img, cv2.COLOR_BGR2YUV) \n",
    "    # compute histogram and reduce to a flat array\n",
    "    return cv2.calcHist([chroma_img.astype(np.uint8)], channels=[0,1,2], mask=None, histSize=[n,n,n], ranges=[0,256,0,256,0,256]).ravel()\n",
    "    "
   ]
  },
  {
   "cell_type": "code",
   "execution_count": null,
   "metadata": {},
   "outputs": [],
   "source": [
    "images = np.load(\"data/daynight.npz\")['data']\n",
    "plt.imshow(cv2.cvtColor(images[1,:,:,:], cv2.COLOR_BGR2RGB))\n",
    "plt.grid(\"off\")"
   ]
  },
  {
   "cell_type": "code",
   "execution_count": null,
   "metadata": {},
   "outputs": [],
   "source": [
    "images = np.load(\"data/daynight.npz\")['data']\n",
    "plt.imshow(cv2.cvtColor(images[1,:,:,:], cv2.COLOR_BGR2RGB))\n",
    "kmeans = sklearn.cluster.KMeans(n_clusters=clusters)\n",
    "features= []\n",
    "for i in range(images.shape[0]):\n",
    "      features.append(color_histogram(images[i,:,:,:], 3))\n",
    "\n",
    "n_clusters = 5\n",
    "features = np.array(features)\n",
    "kmeans = sklearn.cluster.KMeans(n_clusters)\n",
    "kmeans_target = kmeans.fit_predict(features)\n",
    "for i in range(n_clusters):\n",
    "    plt.figure()\n",
    "    selection = np.random.permutation(np.where(kmeans_target==i))[0][0:20]\n",
    "    \n",
    "    plt.imshow(cv2.cvtColor(np.hstack(images[selection,:,:,:]), cv2.COLOR_BGR2RGB))\n",
    "    plt.axis(\"off\")"
   ]
  }
 ],
 "metadata": {
  "kernelspec": {
   "display_name": "Python 2",
   "language": "python",
   "name": "python2"
  },
  "language_info": {
   "codemirror_mode": {
    "name": "ipython",
    "version": 2
   },
   "file_extension": ".py",
   "mimetype": "text/x-python",
   "name": "python",
   "nbconvert_exporter": "python",
   "pygments_lexer": "ipython2",
   "version": "2.7.15"
  }
 },
 "nbformat": 4,
 "nbformat_minor": 1
}
