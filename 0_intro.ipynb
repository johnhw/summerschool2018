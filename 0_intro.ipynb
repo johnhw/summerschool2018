{
 "cells": [
  {
   "cell_type": "markdown",
   "metadata": {
    "slideshow": {
     "slide_type": "slide"
    }
   },
   "source": [
    "\n",
    "## ACM SIGCHI Summer School on Computational Interaction  \n",
    "### Inference, optimization and modeling for the engineering of interactive systems  \n",
    "#### 27th August - 1st September 2018  \n",
    "#### University of Cambridge, UK  \n",
    "\n",
    "<img src=\"imgs/logo.png\" width=\"10%\">\n",
    "\n",
    "\n",
    "----\n",
    "# Unsupervised and probabilistic techniques in HCI\n",
    "\n",
    "## John H. Williamson\n",
    "### University of Glasgow\n",
    "\n",
    "---\n",
    "\n"
   ]
  },
  {
   "cell_type": "markdown",
   "metadata": {
    "slideshow": {
     "slide_type": "slide"
    }
   },
   "source": [
    "\n",
    "\n",
    "## Part 1: Unsupervised learning\n",
    "* Introduction to unsupervised learning and vector spaces\n",
    "* **Exercise 1**\n",
    "    * Finding order with clustering\n",
    "* Manifold learning\n",
    "* **Exercise 1**\n",
    "    * Finding order with manifold learning\n",
    "* Efficient data collection and semi-supervised mapping\n",
    "* **Exercise 3**\n",
    "    * Unravelling the keyboard space\n",
    "    \n",
    "## Part 2: Inferring state probabilistically\n",
    "* Intro to probabilistic inference\n",
    "* Interaction as inference\n",
    "* Stochastic filters and the Kalman filter\n",
    "* **Exercise 3**\n",
    "    * Noisy cursor problem\n",
    "\n",
    "## Part 3: Bringing it together\n",
    "* **Exercise 4**\n",
    "    * An unusual hand tracker\n"
   ]
  },
  {
   "cell_type": "markdown",
   "metadata": {},
   "source": [
    "# What is the purpose of this course?\n",
    "\n",
    "This course aims to to take a fresh look at how computers determine what users want to do. We will examine machine learning approaches to inferring user intention from observed sensor signals.\n",
    "\n",
    "After this course, you should be able to:\n",
    "* Have a fundamental understanding of the input problem;\n",
    "* Understand the ways in which human-input sensors can vary;\n",
    "* Use unsupervised learning to learn **manifolds** or **clustering** which might explain apparently complex behaviour.\n",
    "* How to attach manifolds of control (\"compressed\" versions of things that are sensed) to action spaces (things we might want to do)\n",
    "* Use probabilistic inference to **reliably** infer and track an action states\n",
    "* Use probabilistic models to accumulate information from the user reliably and efficiently.\n"
   ]
  },
  {
   "cell_type": "markdown",
   "metadata": {},
   "source": [
    "## Technical details\n",
    "We will be using Jupyter notebooks with Python 2.7. These exercises will work best if you can run them on a local machine. See [requirements.txt](binder/requirements.txt) for a list of the packages we use. \n",
    "\n",
    "#### Keyboard\n",
    "The only special one is [**keyboard**](https://github.com/boppreh/keyboard) which we will use to directly hook the keyboard input. This works on Windows, Linux, and potentially on OS X (but untested on that platform).\n"
   ]
  }
 ],
 "metadata": {
  "kernelspec": {
   "display_name": "Python 2",
   "language": "python",
   "name": "python2"
  },
  "language_info": {
   "codemirror_mode": {
    "name": "ipython",
    "version": 2
   },
   "file_extension": ".py",
   "mimetype": "text/x-python",
   "name": "python",
   "nbconvert_exporter": "python",
   "pygments_lexer": "ipython2",
   "version": "2.7.15"
  }
 },
 "nbformat": 4,
 "nbformat_minor": 2
}
