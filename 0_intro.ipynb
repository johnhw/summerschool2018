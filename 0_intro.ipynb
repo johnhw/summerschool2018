{
 "cells": [
  {
   "cell_type": "markdown",
   "metadata": {
    "slideshow": {
     "slide_type": "slide"
    }
   },
   "source": [
    "\n",
    "## ACM SIGCHI Summer School on Computational Interaction  \n",
    "### Inference, optimization and modeling for the engineering of interactive systems  \n",
    "#### 27th August - 1st September 2018  \n",
    "#### University of Cambridge, UK  \n",
    "\n",
    "<img src=\"imgs/logo.png\" width=\"10%\">\n",
    "\n",
    "\n",
    "----\n",
    "# \"Input from the ground up\"\n",
    "\n",
    "## John H. Williamson\n",
    "### University of Glasgow\n",
    "\n",
    "---\n",
    "\n"
   ]
  },
  {
   "cell_type": "markdown",
   "metadata": {
    "slideshow": {
     "slide_type": "skip"
    }
   },
   "source": [
    "\n",
    "$$\\newcommand{\\vec}[1]{{\\bf #1}} \n",
    "\\newcommand{\\real}{\\mathbb{R}}\n",
    "\\newcommand{\\expect}[1]{\\mathbb{E}[#1]}\n",
    "\\DeclareMathOperator*{\\argmin}{arg\\,min}\n",
    "\\vec{x}\n",
    "\\real\n",
    "$$\n"
   ]
  },
  {
   "cell_type": "code",
   "execution_count": null,
   "metadata": {
    "init_cell": true,
    "slideshow": {
     "slide_type": "skip"
    }
   },
   "outputs": [
    {
     "data": {
      "text/html": [
       "\n",
       "<script>\n",
       "  function code_toggle() {\n",
       "    if (code_shown){\n",
       "      $('div.input').hide('500');\n",
       "      $('#toggleButton').val('Show Code')\n",
       "    } else {\n",
       "      $('div.input').show('500');\n",
       "      $('#toggleButton').val('Hide Code')\n",
       "    }\n",
       "    code_shown = !code_shown\n",
       "  }\n",
       "\n",
       "  $( document ).ready(function(){\n",
       "    code_shown=false;\n",
       "    $('div.input').hide()\n",
       "  });\n",
       "</script>\n",
       "<form action=\"javascript:code_toggle()\"><input type=\"submit\" id=\"toggleButton\" value=\"Show Code\"></form>"
      ],
      "text/plain": [
       "<IPython.core.display.HTML object>"
      ]
     },
     "execution_count": null,
     "metadata": {},
     "output_type": "execute_result"
    }
   ],
   "source": [
    "import IPython.display\n",
    "IPython.display.HTML(\"\"\"\n",
    "<script>\n",
    "  function code_toggle() {\n",
    "    if (code_shown){\n",
    "      $('div.input').hide('500');\n",
    "      $('#toggleButton').val('Show Code')\n",
    "    } else {\n",
    "      $('div.input').show('500');\n",
    "      $('#toggleButton').val('Hide Code')\n",
    "    }\n",
    "    code_shown = !code_shown\n",
    "  }\n",
    "\n",
    "  $( document ).ready(function(){\n",
    "    code_shown=false;\n",
    "    $('div.input').hide()\n",
    "  });\n",
    "</script>\n",
    "<form action=\"javascript:code_toggle()\"><input type=\"submit\" id=\"toggleButton\" value=\"Show Code\"></form>\"\"\")"
   ]
  },
  {
   "cell_type": "code",
   "execution_count": null,
   "metadata": {
    "slideshow": {
     "slide_type": "skip"
    }
   },
   "outputs": [],
   "source": [
    "import numpy as np\n",
    "import matplotlib as mpl\n",
    "import matplotlib.pyplot as plt\n",
    "%matplotlib inline\n",
    "# configure default figure size for optimal viewing\n",
    "plt.rc('figure', figsize=(8.0, 4.0), dpi=140)"
   ]
  },
  {
   "cell_type": "markdown",
   "metadata": {
    "slideshow": {
     "slide_type": "slide"
    }
   },
   "source": [
    "## Outline\n",
    "\n",
    "## Part I: Interaction problem\n",
    "* Making the familiar unfamiliar\n",
    "    * How do sensors vary?\n",
    "* **Exercise 0**\n",
    "    * Playing with a keyboard\n",
    "    \n",
    "## Part 2: Recovering structure\n",
    "* Introduction to unsupervised learning\n",
    "* **Exercise 1**\n",
    "    * Finding order\n",
    "* Semi-supervised mapping\n",
    "* **Exercise 2**\n",
    "    * Unravelling the space\n",
    "    \n",
    "## Part 4: Inferring state\n",
    "* Probabilistic inference\n",
    "    * Stochastic filters\n",
    "* **Exercise 3**\n",
    "    * Tracking the space\n",
    "* Inferring state changes\n",
    "* **Exercise 4**\n",
    "    * Doing things reliably\n"
   ]
  },
  {
   "cell_type": "markdown",
   "metadata": {},
   "source": [
    "## What is the purpose of this course?\n",
    "\n",
    "This course aims to to take a fresh look at how computers determine what users want to do. We will examine machine learning approaches to inferring user intention from observed sensor signals.\n",
    "\n",
    "After this course, you should be able to:\n",
    "* Have a fundamental understanding of the input problem;\n",
    "* Understand the ways in which human-input sensors can vary;\n",
    "* Understand how to distort and manipulate existing sensors to emulate hypothetical ones;\n",
    "* Use unsupervised learning to learn **manifolds** or **clustering** which might explain apparently complex behaviour.\n",
    "* Use supervised learning to attach manifolds of control (\"compressed\" versions of things that are sensed) to action spaces (things we might want to do)\n",
    "* Use probabilistic inference to **reliably** infer and track an action states\n",
    "* Use probabilistic models to accumulate information from the user reliably and efficiently.\n"
   ]
  },
  {
   "cell_type": "markdown",
   "metadata": {},
   "source": [
    "## Technical details\n",
    "We will be using Jupyter notebooks with Python 2.7. These exercises will work best if you can run them on a local machine. See [requirements.txt](binder/requirements.txt) for a list of the packages we use. \n",
    "\n",
    "#### Keyboard\n",
    "The only special one is [**keyboard**](https://github.com/boppreh/keyboard) which we will use to directly hook the keyboard input. This works on Windows, Linux, and potentially on OS X (but untested on that platform).\n"
   ]
  },
  {
   "cell_type": "code",
   "execution_count": null,
   "metadata": {},
   "outputs": [],
   "source": []
  }
 ],
 "metadata": {
  "celltoolbar": "Slideshow",
  "kernelspec": {
   "display_name": "Python 2",
   "language": "python",
   "name": "python2"
  },
  "language_info": {
   "codemirror_mode": {
    "name": "ipython",
    "version": 2
   },
   "file_extension": ".py",
   "mimetype": "text/x-python",
   "name": "python",
   "nbconvert_exporter": "python",
   "pygments_lexer": "ipython2",
   "version": "2.7.15"
  }
 },
 "nbformat": 4,
 "nbformat_minor": 2
}
